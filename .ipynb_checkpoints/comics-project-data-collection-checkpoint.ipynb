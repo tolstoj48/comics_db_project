{
 "cells": [
  {
   "cell_type": "code",
   "execution_count": 1,
   "id": "60a73e24-3d98-4078-afe6-2eff750efda9",
   "metadata": {},
   "outputs": [
    {
     "name": "stdout",
     "output_type": "stream",
     "text": [
      "4.15.2\n"
     ]
    }
   ],
   "source": [
    "import selenium\n",
    "print(selenium.__version__)"
   ]
  },
  {
   "cell_type": "markdown",
   "id": "2a81b5cf-2d0a-42ce-906d-f9bb30464b08",
   "metadata": {},
   "source": [
    "### Data collection - download all of the publishers links from the comicsdb.cz and export them to a .csv file"
   ]
  },
  {
   "cell_type": "code",
   "execution_count": 3,
   "id": "2f3bf23f-5445-49bc-94b1-54a45ce6349c",
   "metadata": {
    "scrolled": true
   },
   "outputs": [],
   "source": [
    "import csv\n",
    "from selenium import webdriver\n",
    "from selenium.webdriver.edge.service import Service\n",
    "from selenium.webdriver.common.by import By\n",
    "from selenium.webdriver.support.ui import WebDriverWait\n",
    "from selenium.webdriver.support import expected_conditions as EC\n",
    "\n",
    "\n",
    "DRIVER_PATH = \"C:\\\\Users\\\\petr.musil\\\\Desktop\\\\python\\\\edgedriver\\\\msedgedriver.exe\"\n",
    "service = Service(executable_path = DRIVER_PATH)\n",
    "driver = webdriver.Edge(service=service)\n",
    "\n",
    "try:\n",
    "    nakladatelstvi = \"https://www.comicsdb.cz/prehled-nakladatelstvi/1/\"\n",
    "    list_of_links = []\n",
    "    for num in list(range(1,8)):\n",
    "        driver.get(f'{nakladatelstvi}{num}')    \n",
    "        driver.implicitly_wait(1)\n",
    "        # wait for the element\n",
    "        element = WebDriverWait(driver, 5).until(\n",
    "            EC.presence_of_element_located((By.CSS_SELECTOR, \".card.text-center.p-2\")))\n",
    "        links = driver.find_element(by = By.CSS_SELECTOR, value = \".table-border-dashed\").find_elements(by = By.TAG_NAME, value = \"a\")\n",
    "        for link in links:\n",
    "            list_of_links.append([link.get_attribute(\"href\")])\n",
    "finally:\n",
    "    driver.quit()\n",
    "\n",
    "filename = \"output.csv\"\n",
    "with open(filename, \"w\", newline=\"\") as csvfile:\n",
    "    csvwriter = csv.writer(csvfile)\n",
    "    csvwriter.writerows(list_of_links)"
   ]
  },
  {
   "cell_type": "markdown",
   "id": "b53d8aba-2425-4e97-8e24-e55813a9d8a5",
   "metadata": {},
   "source": [
    "### Visit each webpage of publishers from source .csv file and get number of titles and the list of titles."
   ]
  },
  {
   "cell_type": "code",
   "execution_count": 17,
   "id": "a2b356d2-830f-4f3e-a098-6c9d6f3cf540",
   "metadata": {},
   "outputs": [
    {
     "name": "stdout",
     "output_type": "stream",
     "text": [
      "\n",
      "                                Historie nakladatelství spadá do roku 1997, kdy byla založena Petrem Litošem, Vladimírem Veverkou, Štěpánem Kopřivou a Jiřím Pavlovským společnost CREW s.r.o. V roce 2006 se společnost transformovala na Nakladatelství CREW s.r.o. a jejími majiteli (a zároveň redaktory) se stali Petr Litoš a Jiří Pavlovský.&nbsp;\n",
      "\n",
      "CREW vydává více než sto komiksových knih ročně, a je tak největším nakladatelstvím specializovaným na komiksy v České republice. Misí nakladatelství je vydávat světové komiksy česky. Jako první nakladatelství v České republice navázalo spolupráci s japonským vydavatelem Kodansha a po téměř dvacetiletém snažení tak mohli v českém překladu vyjít kultovní tituly jako je Ghost in the Shell či Battle Angel Alita. CREW vydává i další manga série jako např. Útok titánů, Naruto, Death Note – Zápisník smrti či Tokijský ghúl, a to nově pod značkou CREW MANGA, která vznikla v roce 2018.&nbsp;<a href=\"http://www.crew.cz/komiks/manga\" target=\"_blank\">http://www.crew.cz/komiks/manga</a>\n",
      "\n",
      "Kromě mangy, nebo titulů od DC Comics, Marvel, Image či Dark Horse, se nakladatelství zaměřuje i na evropský komiks, a to prostřednictví edice Mistrovská díla evropského komiksu a časopisu Modrá CREW (<a href=\"http://www.modra.crew.cz\" target=\"_blank\">http://www.modra.crew.cz</a>). Zde vychází jednotlivá alba poté, co je předplatitelé podpoří nejvyšším počtem hlasů.\n",
      "\n",
      "Protože fenomén komiksu v České republice vzrůstá a dětí, které rádi čtou ubývá, rozhodlo se CREW zaměřit se i na čtenářskou gramotnost a rozečtení dětí pomocí komiksu. Proto v roce 2018 vytvořilo značku CREW KIDS, pod kterou vydává dětské komiksy a to dokonce s věkovým doporučením. <a href=\"http://crew.cz/komiks/detske\" target=\"_blank\">http://crew.cz/komiks/detske</a>\n",
      "\n",
      "Nakladatelství se dlouhodobě věnuje i popularizaci komiksů v České republice – ať už prostřednictvím každoroční akce CRWECON, nebo produkcí YouTube pořadu KOMIKSÁŘ či televizního týdeníku SMASH!.&nbsp;                            \n",
      "\n",
      "                                Šedesáté páté pole šachovnice symbolizuje přesahující a nečekané.\n",
      "Vítejte ve světě příběhů, myšlenek, poezie a krásných knih.\n",
      "\n",
      "                            \n"
     ]
    }
   ],
   "source": [
    "import csv\n",
    "from selenium import webdriver\n",
    "from selenium.webdriver.edge.service import Service\n",
    "from selenium.webdriver.common.by import By\n",
    "from selenium.webdriver.support.ui import WebDriverWait\n",
    "from selenium.webdriver.support import expected_conditions as EC\n",
    "\n",
    "DRIVER_PATH = \"C:\\\\Users\\\\petr.musil\\\\Desktop\\\\python\\\\edgedriver\\\\msedgedriver.exe\"\n",
    "service = Service(executable_path = DRIVER_PATH)\n",
    "driver = webdriver.Edge(service=service)\n",
    "\n",
    "try:\n",
    "    list_of_publisher_data = []\n",
    "    with open(\"test_output.csv\", \"r\") as file:\n",
    "        reader = csv.reader(file)\n",
    "        for row in reader:\n",
    "            driver.get(row[0])\n",
    "            driver.implicitly_wait(1)\n",
    "            publisher = WebDriverWait(driver, 5).until(\n",
    "                EC.presence_of_element_located((By.CSS_SELECTOR, \".font-weight-semibold\")))\n",
    "            number_of_titles = WebDriverWait(driver, 5).until(\n",
    "                EC.presence_of_element_located((By.CSS_SELECTOR, \".font-weight-bold.text-cdbred.ml-1\")))\n",
    "            list_of_publisher_data.append([publisher.text, number_of_titles.text, row[0]])\n",
    "finally:\n",
    "    driver.quit()\n",
    "\n",
    "filename = \"output_publihser_data.csv\"\n",
    "with open(filename, \"w\", newline=\"\") as csvfile:\n",
    "    csvwriter = csv.writer(csvfile)\n",
    "    csvwriter.writerow([\"name\", \"description\", \"number_of_titles\", \"link\"])\n",
    "    csvwriter.writerows(list_of_publisher_data)"
   ]
  },
  {
   "cell_type": "code",
   "execution_count": null,
   "id": "d87a9f32-d8b5-4eff-be5a-8e4fa697fc43",
   "metadata": {},
   "outputs": [],
   "source": []
  },
  {
   "cell_type": "code",
   "execution_count": null,
   "id": "afc27a24-40ae-4899-a751-3968cdbd8fd8",
   "metadata": {},
   "outputs": [],
   "source": []
  }
 ],
 "metadata": {
  "kernelspec": {
   "display_name": "Python 3 (ipykernel)",
   "language": "python",
   "name": "python3"
  },
  "language_info": {
   "codemirror_mode": {
    "name": "ipython",
    "version": 3
   },
   "file_extension": ".py",
   "mimetype": "text/x-python",
   "name": "python",
   "nbconvert_exporter": "python",
   "pygments_lexer": "ipython3",
   "version": "3.9.6"
  }
 },
 "nbformat": 4,
 "nbformat_minor": 5
}
