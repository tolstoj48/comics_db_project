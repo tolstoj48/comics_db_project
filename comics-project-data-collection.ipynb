{
 "cells": [
  {
   "cell_type": "markdown",
   "id": "7c45e1f5-66ec-476c-9132-f8684a74479b",
   "metadata": {},
   "source": [
    "## DB PROJECT"
   ]
  },
  {
   "cell_type": "markdown",
   "id": "55d85183-1d73-4852-b4a0-72b53f03343b",
   "metadata": {},
   "source": [
    "This project is non-profit, personal project for education purposes only.\n",
    "\n",
    "1) scrape comics db data - save them into file (huge amount of data scraped from nonprofit db - save it to the csv and avoid another round of scraping)\n",
    "2) do some basic data exploration\n",
    "3) create sqlite3 db (separate comics.sql script)\n",
    "4) import data from scraped .csv files\n",
    "5) connect a python command line tool to the db and allow users to search the db\n",
    "\n",
    "Thanks to the people from https://www.comicsdb.cz/ project."
   ]
  },
  {
   "cell_type": "markdown",
   "id": "224f527c-2b82-4cf5-abc6-4406e906cb4c",
   "metadata": {},
   "source": [
    "### Importing all the neccessary libraries for scraping"
   ]
  },
  {
   "cell_type": "code",
   "execution_count": 4,
   "id": "ca838bad-239f-4eda-9c43-b4be9001c32c",
   "metadata": {},
   "outputs": [],
   "source": [
    "import csv\n",
    "import re\n",
    "import time\n",
    "from bs4 import BeautifulSoup\n",
    "from selenium import webdriver\n",
    "from selenium.webdriver.edge.service import Service\n",
    "from selenium.webdriver.common.by import By\n",
    "from selenium.webdriver.support.ui import WebDriverWait\n",
    "from selenium.webdriver.support import expected_conditions as EC\n",
    "\n",
    "DRIVER_PATH = \"C:\\\\Users\\\\petr.musil\\\\Desktop\\\\python\\\\edgedriver\\\\msedgedriver.exe\"\n",
    "service = Service(executable_path = DRIVER_PATH)"
   ]
  },
  {
   "cell_type": "markdown",
   "id": "2a81b5cf-2d0a-42ce-906d-f9bb30464b08",
   "metadata": {},
   "source": [
    "### Data collection - download all of the publishers links from the comicsdb.cz and export them to a .csv file"
   ]
  },
  {
   "cell_type": "code",
   "execution_count": 5,
   "id": "2f3bf23f-5445-49bc-94b1-54a45ce6349c",
   "metadata": {
    "scrolled": true
   },
   "outputs": [],
   "source": [
    "try:\n",
    "    driver = webdriver.Edge(service=service)\n",
    "    publisher = \"https://www.comicsdb.cz/prehled-nakladatelstvi/1/\"\n",
    "    list_of_links = []\n",
    "    for num in list(range(1,8)):\n",
    "        driver.get(f'{publisher}{num}')    \n",
    "        time.sleep(1)\n",
    "        # wait for the element\n",
    "        element = WebDriverWait(driver, 5).until(\n",
    "            EC.presence_of_element_located((By.CSS_SELECTOR, \".card.text-center.p-2\")))\n",
    "        links = driver.find_element(by = By.CSS_SELECTOR, value = \".table-border-dashed\").find_elements(by = By.TAG_NAME, value = \"a\")\n",
    "        for link in links:\n",
    "            list_of_links.append([link.get_attribute(\"href\")])\n",
    "finally:\n",
    "    driver.quit()\n",
    "\n",
    "filename = \"./data/links_publishers.csv\"\n",
    "with open(filename, \"w\", newline=\"\") as csvfile:\n",
    "    csvwriter = csv.writer(csvfile)\n",
    "    csvwriter.writerows(list_of_links)"
   ]
  },
  {
   "cell_type": "markdown",
   "id": "b53d8aba-2425-4e97-8e24-e55813a9d8a5",
   "metadata": {},
   "source": [
    "### Visit each webpage of a publisher from the source .csv file and get name, number of titles and link. Save the result to a .csv file"
   ]
  },
  {
   "cell_type": "code",
   "execution_count": 29,
   "id": "a2b356d2-830f-4f3e-a098-6c9d6f3cf540",
   "metadata": {},
   "outputs": [],
   "source": [
    "try:\n",
    "    list_of_publisher_data = []\n",
    "    with open(\"./data/links_publishers.csv\", \"r\") as file:\n",
    "        reader = csv.reader(file)\n",
    "        for row in reader:\n",
    "            driver.get(row[0])\n",
    "            time.sleep(1)\n",
    "            publisher = WebDriverWait(driver, 5).until(\n",
    "                EC.presence_of_element_located((By.CSS_SELECTOR, \".font-weight-semibold\")))\n",
    "            number_of_titles = WebDriverWait(driver, 5).until(\n",
    "                EC.presence_of_element_located((By.CSS_SELECTOR, \".font-weight-bold.text-cdbred.ml-1\")))\n",
    "            list_of_publisher_data.append([publisher.text.strip(), number_of_titles.text.strip(), row[0].strip()])\n",
    "finally:\n",
    "    driver.quit()\n",
    "\n",
    "filename = \"./data/output_publishers_data.csv\"\n",
    "with open(filename, \"w\", newline=\"\", encoding=\"utf-8\") as csvfile:\n",
    "    csvwriter = csv.writer(csvfile, delimiter=\";\")\n",
    "    csvwriter.writerow([\"name\", \"number_of_titles\", \"link\"])\n",
    "    csvwriter.writerows(list_of_publisher_data)"
   ]
  },
  {
   "cell_type": "markdown",
   "id": "b08f731e-0c5a-4e8d-82e4-97d955658210",
   "metadata": {},
   "source": [
    "### Visit all titles overviews and save links to all the titles to a .csv file"
   ]
  },
  {
   "cell_type": "code",
   "execution_count": 39,
   "id": "f3a3667d-6249-4a5a-a72c-18006624f965",
   "metadata": {},
   "outputs": [],
   "source": [
    "try:\n",
    "    overview = \"https://www.comicsdb.cz/prehled-comicsu/6/\"\n",
    "    list_of_links = []\n",
    "    for num in list(range(1,106)):\n",
    "        driver.get(f'{overview}{num}')    \n",
    "        time.sleep(2)\n",
    "        # wait for the element\n",
    "        table_ = WebDriverWait(driver, 5).until(\n",
    "            EC.presence_of_element_located((By.CSS_SELECTOR, \".table.table-hover.table-xs\")))\n",
    "        links = driver.find_elements(by = By.CSS_SELECTOR, value = \".table-border-dashed a\")\n",
    "        #links = links.find_elements(by = By.TAG_NAME, value = \"a\")\n",
    "        for link in links:\n",
    "            list_of_links.append([link.get_attribute(\"href\")])\n",
    "finally:\n",
    "    driver.quit()\n",
    "\n",
    "filename = \"./data/links_titles.csv\"\n",
    "with open(filename, \"w\", newline=\"\", encoding=\"utf-8\") as csvfile:\n",
    "    csvwriter = csv.writer(csvfile)\n",
    "    csvwriter.writerows(list_of_links)"
   ]
  },
  {
   "cell_type": "markdown",
   "id": "a151a273-6f60-4abc-a133-4ad029491156",
   "metadata": {},
   "source": [
    "### Visit all the titles details and get all the data"
   ]
  },
  {
   "cell_type": "code",
   "execution_count": 7,
   "id": "fc9e2af4-5767-4e2c-ac8e-df8cad9ab14b",
   "metadata": {},
   "outputs": [],
   "source": [
    "try:\n",
    "    list_of_titles_data = []\n",
    "    with open(\"./data/links_titles.csv\", \"r\") as file:\n",
    "        reader = csv.reader(file)\n",
    "        for row in reader:\n",
    "            driver.get(row[0])\n",
    "            time.sleep(2)\n",
    "            title = WebDriverWait(driver, 5).until(\n",
    "                EC.presence_of_element_located((By.CSS_SELECTOR, \".font-weight-semibold\")))\n",
    "            soup = BeautifulSoup(driver.page_source, \"html.parser\")\n",
    "            title = soup.find(\"span\", \"font-weight-semibold\").text\n",
    "            basic_info = soup.find(\"small\")\n",
    "            try:\n",
    "                link_publisher = basic_info.find(\"a\").get(\"href\")\n",
    "            except:\n",
    "                link_publisher = \"NA\"\n",
    "            try:\n",
    "                year_pattern = re.compile(r'\\d{4}')\n",
    "                year = year_pattern.search(basic_info.text)\n",
    "                year = year.group()\n",
    "            except:            \n",
    "                year = \"NA\"\n",
    "            pages = \"NA\"\n",
    "            price = \"NA\"\n",
    "            dt_tags = soup.find_all(\"dt\")\n",
    "            for tag in dt_tags:\n",
    "                if \"Stran\" in tag.text:\n",
    "                    pages = tag.next_sibling.text\n",
    "                elif \"Cena\" in tag.text:\n",
    "                    price = tag.next_sibling.text\n",
    "            list_of_titles_data.append([title.strip(), year.strip(), row[0].strip(), link_publisher.strip(), pages.strip(), price.strip()])\n",
    "finally:\n",
    "    driver.quit()\n",
    "\n",
    "filename = \"./data/output_titles_data.csv\"\n",
    "with open(filename, \"w\", newline=\"\", encoding=\"utf-8\") as csvfile:\n",
    "    csvwriter = csv.writer(csvfile, delimiter=\";\")\n",
    "    csvwriter.writerow([\"title\", \"year\", \"link_title\",\"link_publisher\", \"pages\", \"price\"])\n",
    "    csvwriter.writerows(list_of_titles_data)\n",
    "    "
   ]
  },
  {
   "cell_type": "markdown",
   "id": "782574d8-9c25-4390-abff-e2d50c0ca69e",
   "metadata": {},
   "source": [
    "### Explore the gathered data"
   ]
  },
  {
   "cell_type": "code",
   "execution_count": 1,
   "id": "2b19cd38-d40c-4656-8137-ea1473553b00",
   "metadata": {},
   "outputs": [
    {
     "data": {
      "image/png": "[encoded data removed]",
      "text/plain": [
       "<Figure size 640x480 with 1 Axes>"
      ]
     },
     "metadata": {},
     "output_type": "display_data"
    }
   ],
   "source": [
    "import pandas as pd\n",
    "import matplotlib.pyplot as plt\n",
    "\n",
    "publishers = pd.read_csv(\"./data/output_publishers_data.csv\", delimiter=\";\")\n",
    "publishers = publishers[publishers[\"number_of_titles\"] > 100]\n",
    "publishers.plot(kind = \"bar\", x = \"name\", y = \"number_of_titles\")\n",
    "plt.show()"
   ]
  },
  {
   "cell_type": "code",
   "execution_count": 13,
   "id": "69b593f2-32c7-45dc-b75b-c030635252b6",
   "metadata": {
    "scrolled": true
   },
   "outputs": [],
   "source": [
    "titles = pd.read_csv(\"./data/output_titles.csv\", delimiter=\";\")\n",
    "titles_origin = titles.copy()\n",
    "titles = titles[titles[\"link_publisher\"] == \"/nakladatelstvi/1/crew\"]\n",
    "titles[\"year\"] = titles[\"year\"].astype(int)\n",
    "mean_pages = titles[\"pages\"].mean()\n",
    "titles[\"pages\"] = titles[\"pages\"].fillna(mean_pages).astype(int)\n",
    "titles[\"price\"] = titles[\"price\"].str.replace(\" Kč\", \"\").astype(int)"
   ]
  },
  {
   "cell_type": "code",
   "execution_count": 14,
   "id": "cf8e80d1-8b03-4f6b-8a68-8c1ca27edc24",
   "metadata": {
    "scrolled": true
   },
   "outputs": [
    {
     "name": "stdout",
     "output_type": "stream",
     "text": [
      "link_publisher\n",
      "/nakladatelstvi/459/yinachi                              6598.909091\n",
      "/nakladatelstvi/331/filip-konecny                        2943.500000\n",
      "/nakladatelstvi/619/foxter                               1375.000000\n",
      "/nakladatelstvi/625/skautska-nadace-jaroslava-foglara    1290.000000\n",
      "/nakladatelstvi/285/verzone                              1249.000000\n",
      "                                                            ...     \n",
      "/serie/14/alois-nebel                                            NaN\n",
      "/serie/269/samizdatove-fanzinove-vydani                          NaN\n",
      "/serie/336/bd-fan-zpravodaj-comics-klubu                         NaN\n",
      "/serie/59/kapitan-kloss                                          NaN\n",
      "/serie/715/mistrovske-dilo-korejskych-komiks                     NaN\n",
      "Name: price, Length: 601, dtype: float64\n",
      "link_publisher\n",
      "/nakladatelstvi/1/crew                                         1782\n",
      "/nakladatelstvi/29/egmont-cr-albatros-media-as                 1622\n",
      "/nakladatelstvi/28/ctyrlistek                                   876\n",
      "/nakladatelstvi/3/bbart-sro                                     787\n",
      "/nakladatelstvi/4/comics-centrum                                362\n",
      "                                                               ... \n",
      "/nakladatelstvi/273/nadace-baptisticke-charitativni-sluzby-       0\n",
      "/nakladatelstvi/271/brnenske-knizni-nakladatelstvi                0\n",
      "/nakladatelstvi/571/ceska-centra                                  0\n",
      "/nakladatelstvi/44/nakladatelstvi-jihoceskych-tiskaren-cb         0\n",
      "/serie/715/mistrovske-dilo-korejskych-komiks                      0\n",
      "Name: price, Length: 601, dtype: int64\n"
     ]
    }
   ],
   "source": [
    "titles_origin[\"year\"] = titles_origin[\"year\"].fillna(0)\n",
    "titles_origin[\"year\"] = titles_origin[\"year\"].astype(int)\n",
    "mean_pages = titles_origin[\"pages\"].mean()\n",
    "titles_origin[\"pages\"] = titles_origin[\"pages\"].fillna(mean_pages).astype(int)\n",
    "titles_origin[\"price\"] = titles_origin[\"price\"].fillna(0)\n",
    "titles_origin[\"price\"] = titles_origin[\"price\"].str.replace(\" Kč\", \"\")\n",
    "titles_origin[\"price\"] = titles_origin[\"price\"].str.replace(\" h\", \"\")\n",
    "titles_origin[\"price\"] = titles_origin[\"price\"].str.strip().astype(float)\n",
    "\n",
    "grouped = titles_origin.groupby(\"link_publisher\")[\"price\"].mean()\n",
    "sorted_grouped = grouped.sort_values(ascending=False)\n",
    "print(sorted_grouped)\n",
    "grouped_num = titles_origin.groupby(\"link_publisher\")[\"price\"].count()\n",
    "sorted_grouped_count = grouped_num.sort_values(ascending=False)\n",
    "print(sorted_grouped_count)"
   ]
  },
  {
   "cell_type": "code",
   "execution_count": 17,
   "id": "9c9daa2b-d57c-468f-8bf8-a53667bffa7a",
   "metadata": {},
   "outputs": [
    {
     "name": "stdout",
     "output_type": "stream",
     "text": [
      "                                                   title  year  \\\n",
      "0                               One-Punch Man #10: Zápal  2023   \n",
      "1                          Chainsaw Man #06: Bum bum bum  2023   \n",
      "2                                  Aquaman: Válka o trůn  2023   \n",
      "3      Jujutsu Kaisen - Prokleté války #09: Zmařený p...  2023   \n",
      "4                               SpongeBob komiks 2023/12  2023   \n",
      "...                                                  ...   ...   \n",
      "10448                                          Zkrat #02  2004   \n",
      "10449                               Liga výjimečných II.  2004   \n",
      "10450                    Alois Nebel #02: Hlavní nádraží  2004   \n",
      "10451                               Top 10 - Kniha první  2003   \n",
      "10452            Comicsové legendy #01: Barbar Conan #01  2002   \n",
      "\n",
      "                                              link_title  \\\n",
      "0      https://www.comicsdb.cz/comics/10508/one-punch...   \n",
      "1      https://www.comicsdb.cz/comics/10507/chainsaw-...   \n",
      "2      https://www.comicsdb.cz/comics/10506/aquaman-v...   \n",
      "3      https://www.comicsdb.cz/comics/10505/jujutsu-k...   \n",
      "4      https://www.comicsdb.cz/comics/10504/spongebob...   \n",
      "...                                                  ...   \n",
      "10448         https://www.comicsdb.cz/comics/41/zkrat-02   \n",
      "10449  https://www.comicsdb.cz/comics/39/liga-vyjimec...   \n",
      "10450  https://www.comicsdb.cz/comics/38/alois-nebel-...   \n",
      "10451  https://www.comicsdb.cz/comics/21/top-10-kniha...   \n",
      "10452  https://www.comicsdb.cz/comics/19/comicsove-le...   \n",
      "\n",
      "                         link_publisher  pages  price  index           name  \\\n",
      "0                /nakladatelstvi/1/crew    212  269.0  123.0           Crew   \n",
      "1                /nakladatelstvi/1/crew    196  249.0  123.0           Crew   \n",
      "2                /nakladatelstvi/1/crew    192  399.0  123.0           Crew   \n",
      "3                /nakladatelstvi/1/crew    196  249.0  123.0           Crew   \n",
      "4                /nakladatelstvi/1/crew     32   49.0  123.0           Crew   \n",
      "...                                 ...    ...    ...    ...            ...   \n",
      "10448  /nakladatelstvi/18/martin-pribyl     36   50.0  326.0  Martin Přibyl   \n",
      "10449       /nakladatelstvi/3/bbart-sro    226  490.0   66.0   BBart s.r.o.   \n",
      "10450       /nakladatelstvi/17/labyrint    130  199.0  292.0       Labyrint   \n",
      "10451       /nakladatelstvi/3/bbart-sro    154  490.0   66.0   BBart s.r.o.   \n",
      "10452            /nakladatelstvi/1/crew    168  199.0  123.0           Crew   \n",
      "\n",
      "       number_of_titles                              link  \n",
      "0                1876.0            /nakladatelstvi/1/crew  \n",
      "1                1876.0            /nakladatelstvi/1/crew  \n",
      "2                1876.0            /nakladatelstvi/1/crew  \n",
      "3                1876.0            /nakladatelstvi/1/crew  \n",
      "4                1876.0            /nakladatelstvi/1/crew  \n",
      "...                 ...                               ...  \n",
      "10448              11.0  /nakladatelstvi/18/martin-pribyl  \n",
      "10449             790.0       /nakladatelstvi/3/bbart-sro  \n",
      "10450              71.0       /nakladatelstvi/17/labyrint  \n",
      "10451             790.0       /nakladatelstvi/3/bbart-sro  \n",
      "10452            1876.0            /nakladatelstvi/1/crew  \n",
      "\n",
      "[10453 rows x 10 columns]\n"
     ]
    }
   ],
   "source": [
    "import sqlite3\n",
    "import pandas as pd\n",
    "from urllib.parse import urlparse\n",
    "\n",
    "publishers = pd.read_csv(\"./data/output_publishers_data.csv\", delimiter=\";\")\n",
    "# I need to get the same part of url as in the titles csv file.\n",
    "publishers[\"link\"] = publishers[\"link\"].apply(lambda x: urlparse(x).path)\n",
    "\n",
    "try:\n",
    "    conn = sqlite3.connect(\"./db/comics.db\")\n",
    "    cur = conn.cursor()\n",
    "    publishers.to_sql('publishers', conn, if_exists='replace')\n",
    "    result = cur.execute(\"SELECT * FROM publishers;\")\n",
    "    rows = result.fetchall()\n",
    "    columns = [column[0] for column in cur.description]\n",
    "    publishers_final = pd.DataFrame(rows, columns=columns)\n",
    "    titles_origin_final = titles_origin.merge(publishers_final, how=\"left\", left_on=\"link_publisher\", right_on=\"link\")\n",
    "    print(titles_origin_final)\n",
    "    # something drop and restructure df then import to the db\n",
    "finally:\n",
    "    conn.close()"
   ]
  },
  {
   "cell_type": "code",
   "execution_count": null,
   "id": "0a3040bc-7223-456e-a4f0-9d1788a79427",
   "metadata": {},
   "outputs": [],
   "source": []
  }
 ],
 "metadata": {
  "kernelspec": {
   "display_name": "Python 3 (ipykernel)",
   "language": "python",
   "name": "python3"
  },
  "language_info": {
   "codemirror_mode": {
    "name": "ipython",
    "version": 3
   },
   "file_extension": ".py",
   "mimetype": "text/x-python",
   "name": "python",
   "nbconvert_exporter": "python",
   "pygments_lexer": "ipython3",
   "version": "3.9.6"
  }
 },
 "nbformat": 4,
 "nbformat_minor": 5
}
