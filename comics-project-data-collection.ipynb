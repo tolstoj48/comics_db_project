{
 "cells": [
  {
   "cell_type": "code",
   "execution_count": 1,
   "id": "60a73e24-3d98-4078-afe6-2eff750efda9",
   "metadata": {},
   "outputs": [
    {
     "name": "stdout",
     "output_type": "stream",
     "text": [
      "4.15.2\n"
     ]
    }
   ],
   "source": [
    "import selenium\n",
    "print(selenium.__version__)"
   ]
  },
  {
   "cell_type": "markdown",
   "id": "d2040a97-e233-4920-a93c-ed6a17cce5bc",
   "metadata": {},
   "source": [
    "## Data collection - download all of the publishers links from the comicsdb.cz"
   ]
  },
  {
   "cell_type": "code",
   "execution_count": 3,
   "id": "2f3bf23f-5445-49bc-94b1-54a45ce6349c",
   "metadata": {
    "scrolled": true
   },
   "outputs": [],
   "source": [
    "import csv\n",
    "from selenium import webdriver\n",
    "from selenium.webdriver.edge.service import Service\n",
    "from selenium.webdriver.common.by import By\n",
    "from selenium.webdriver.support.ui import WebDriverWait\n",
    "from selenium.webdriver.support import expected_conditions as EC\n",
    "\n",
    "\n",
    "DRIVER_PATH = \"C:\\\\Users\\\\petr.musil\\\\Desktop\\\\python\\\\edgedriver\\\\msedgedriver.exe\"\n",
    "service = Service(executable_path = DRIVER_PATH)\n",
    "driver = webdriver.Edge(service=service)\n",
    "\n",
    "try:\n",
    "    nakladatelstvi = \"https://www.comicsdb.cz/prehled-nakladatelstvi/1/\"\n",
    "    list_of_links = []\n",
    "    for num in list(range(1,8)):\n",
    "        driver.get(f'{nakladatelstvi}{num}')    \n",
    "        driver.implicitly_wait(1)\n",
    "        element = WebDriverWait(driver, 5).until(\n",
    "            EC.presence_of_element_located((By.CSS_SELECTOR, \".card.text-center.p-2\")))\n",
    "        links = driver.find_element(by = By.CSS_SELECTOR, value = \".table-border-dashed\").find_elements(by = By.TAG_NAME, value = \"a\")\n",
    "        for link in links:\n",
    "            list_of_links.append([link.get_attribute(\"href\")])\n",
    "finally:\n",
    "    driver.quit()\n",
    "\n",
    "filename = \"output.csv\"\n",
    "with open(filename, \"w\", newline=\"\") as csvfile:\n",
    "    csvwriter = csv.writer(csvfile)\n",
    "    csvwriter.writerows(list_of_links)"
   ]
  }
 ],
 "metadata": {
  "kernelspec": {
   "display_name": "Python 3 (ipykernel)",
   "language": "python",
   "name": "python3"
  },
  "language_info": {
   "codemirror_mode": {
    "name": "ipython",
    "version": 3
   },
   "file_extension": ".py",
   "mimetype": "text/x-python",
   "name": "python",
   "nbconvert_exporter": "python",
   "pygments_lexer": "ipython3",
   "version": "3.9.6"
  }
 },
 "nbformat": 4,
 "nbformat_minor": 5
}
